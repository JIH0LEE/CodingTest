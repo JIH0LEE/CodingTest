{
 "cells": [
  {
   "cell_type": "code",
   "execution_count": 9,
   "id": "ee35de89",
   "metadata": {},
   "outputs": [
    {
     "name": "stdout",
     "output_type": "stream",
     "text": [
      "5 21\n",
      "5 6 7 8 9\n",
      "21\n"
     ]
    }
   ],
   "source": [
    "n,m = map(int, input().split())\n",
    "cards = list(map(int, input().split()))\n",
    "\n",
    "res = 0\n",
    "length = len(cards)\n",
    "\n",
    "for i in range (0, length):\n",
    "    for j in range(i+1, length):\n",
    "        for k in range (j+1, length):\n",
    "            temp = cards[i] + cards[j] + cards[k]\n",
    "            if temp <= m:\n",
    "                res = max(res, temp)\n",
    "print(res)"
   ]
  }
 ],
 "metadata": {
  "kernelspec": {
   "display_name": "Python 3 (ipykernel)",
   "language": "python",
   "name": "python3"
  },
  "language_info": {
   "codemirror_mode": {
    "name": "ipython",
    "version": 3
   },
   "file_extension": ".py",
   "mimetype": "text/x-python",
   "name": "python",
   "nbconvert_exporter": "python",
   "pygments_lexer": "ipython3",
   "version": "3.9.5"
  }
 },
 "nbformat": 4,
 "nbformat_minor": 5
}
