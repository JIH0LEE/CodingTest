{
 "cells": [
  {
   "cell_type": "code",
   "execution_count": 5,
   "id": "d138b583",
   "metadata": {},
   "outputs": [
    {
     "name": "stdout",
     "output_type": "stream",
     "text": [
      "2341\n",
      "4321"
     ]
    }
   ],
   "source": [
    "n = input()\n",
    "n = [int(i)  for i in n]\n",
    "\n",
    "s = sorted(n, reverse=True)\n",
    "\n",
    "for i in s:\n",
    "    print(i, end=\"\")"
   ]
  }
 ],
 "metadata": {
  "kernelspec": {
   "display_name": "Python 3 (ipykernel)",
   "language": "python",
   "name": "python3"
  },
  "language_info": {
   "codemirror_mode": {
    "name": "ipython",
    "version": 3
   },
   "file_extension": ".py",
   "mimetype": "text/x-python",
   "name": "python",
   "nbconvert_exporter": "python",
   "pygments_lexer": "ipython3",
   "version": "3.9.5"
  }
 },
 "nbformat": 4,
 "nbformat_minor": 5
}
