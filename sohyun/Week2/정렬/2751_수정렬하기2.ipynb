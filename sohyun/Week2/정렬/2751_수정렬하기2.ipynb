{
 "cells": [
  {
   "cell_type": "code",
   "execution_count": 8,
   "id": "4432b628",
   "metadata": {},
   "outputs": [
    {
     "name": "stdout",
     "output_type": "stream",
     "text": [
      "5\n",
      "5\n",
      "4\n",
      "3\n",
      "2\n",
      "1\n",
      "1\n",
      "2\n",
      "3\n",
      "4\n",
      "5\n"
     ]
    }
   ],
   "source": [
    "# 선택정렬\n",
    "n = int(input())\n",
    "s = []\n",
    "\n",
    "for i in range(n):\n",
    "    s.append(int(input()))\n",
    "\n",
    "for i in range(len(s) - 1):\n",
    "    tmp = i\n",
    "    for j in range(i + 1, len(s)):\n",
    "        if(s[tmp] >= s[j]):\n",
    "            tmp = j\n",
    "    s[i], s[tmp] = s[tmp], s[i]\n",
    "\n",
    "for i in range(n):\n",
    "    print(s[i])"
   ]
  }
 ],
 "metadata": {
  "kernelspec": {
   "display_name": "Python 3 (ipykernel)",
   "language": "python",
   "name": "python3"
  },
  "language_info": {
   "codemirror_mode": {
    "name": "ipython",
    "version": 3
   },
   "file_extension": ".py",
   "mimetype": "text/x-python",
   "name": "python",
   "nbconvert_exporter": "python",
   "pygments_lexer": "ipython3",
   "version": "3.9.5"
  }
 },
 "nbformat": 4,
 "nbformat_minor": 5
}
