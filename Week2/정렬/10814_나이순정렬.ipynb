{
 "cells": [
  {
   "cell_type": "code",
   "execution_count": 8,
   "id": "1c96aa12",
   "metadata": {},
   "outputs": [
    {
     "name": "stdout",
     "output_type": "stream",
     "text": [
      "2\n",
      "21 dkf\n",
      "21 fdl\n",
      "21 dkf\n",
      "21 fdl\n"
     ]
    }
   ],
   "source": [
    "n = int(input())\n",
    "s = []\n",
    "\n",
    "for i in range(n):\n",
    "    a, n = map(str, input().split())\n",
    "    s.append((int(a), n))\n",
    "\n",
    "s.sort(key = lambda x:(x[0]))\n",
    "\n",
    "for x in s:\n",
    "    print(x[0], x[1])"
   ]
  }
 ],
 "metadata": {
  "kernelspec": {
   "display_name": "Python 3 (ipykernel)",
   "language": "python",
   "name": "python3"
  },
  "language_info": {
   "codemirror_mode": {
    "name": "ipython",
    "version": 3
   },
   "file_extension": ".py",
   "mimetype": "text/x-python",
   "name": "python",
   "nbconvert_exporter": "python",
   "pygments_lexer": "ipython3",
   "version": "3.9.5"
  }
 },
 "nbformat": 4,
 "nbformat_minor": 5
}
