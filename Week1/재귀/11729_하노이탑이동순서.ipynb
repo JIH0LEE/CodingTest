{
 "cells": [
  {
   "cell_type": "code",
   "execution_count": 5,
   "id": "9dc31356",
   "metadata": {},
   "outputs": [
    {
     "name": "stdout",
     "output_type": "stream",
     "text": [
      "3\n",
      "7\n",
      "1 3\n",
      "1 2\n",
      "3 2\n",
      "1 3\n",
      "2 1\n",
      "2 3\n",
      "1 3\n"
     ]
    }
   ],
   "source": [
    "def hanoi(n, bar1, bar3):\n",
    "    if n == 1:\n",
    "        print(bar1, bar3)\n",
    "        return\n",
    "    \n",
    "    hanoi(n-1, bar1, 6-bar1-bar3)\n",
    "    print(bar1, bar3)\n",
    "    hanoi(n-1, 6-bar1-bar3, bar3)\n",
    "    \n",
    "    \n",
    "n = int(input())\n",
    "print(2**n - 1)\n",
    "hanoi(n, 1, 3)"
   ]
  }
 ],
 "metadata": {
  "kernelspec": {
   "display_name": "Python 3 (ipykernel)",
   "language": "python",
   "name": "python3"
  },
  "language_info": {
   "codemirror_mode": {
    "name": "ipython",
    "version": 3
   },
   "file_extension": ".py",
   "mimetype": "text/x-python",
   "name": "python",
   "nbconvert_exporter": "python",
   "pygments_lexer": "ipython3",
   "version": "3.9.5"
  }
 },
 "nbformat": 4,
 "nbformat_minor": 5
}
