{
 "cells": [
  {
   "cell_type": "code",
   "execution_count": 6,
   "id": "9542ea72",
   "metadata": {},
   "outputs": [
    {
     "name": "stdout",
     "output_type": "stream",
     "text": [
      "5\n",
      "55 185\n",
      "58 183\n",
      "88 186\n",
      "60 175\n",
      "46 155\n",
      "2 2 1 2 5 "
     ]
    }
   ],
   "source": [
    "n = int(input())\n",
    "we_he = []\n",
    "rank = []\n",
    "\n",
    "for i in range(n):\n",
    "    w, h = map(int, input().split())\n",
    "    we_he.append((w, h))\n",
    "    \n",
    "for i in range(n):\n",
    "    cnt = 0\n",
    "    for j in range(n):\n",
    "        if we_he[i][0] < we_he[j][0] and we_he[i][1] < we_he[j][1]:\n",
    "            cnt += 1\n",
    "    rank.append(cnt+1)\n",
    "\n",
    "for i in rank:\n",
    "    print(i, end=\" \")"
   ]
  }
 ],
 "metadata": {
  "kernelspec": {
   "display_name": "Python 3 (ipykernel)",
   "language": "python",
   "name": "python3"
  },
  "language_info": {
   "codemirror_mode": {
    "name": "ipython",
    "version": 3
   },
   "file_extension": ".py",
   "mimetype": "text/x-python",
   "name": "python",
   "nbconvert_exporter": "python",
   "pygments_lexer": "ipython3",
   "version": "3.9.5"
  }
 },
 "nbformat": 4,
 "nbformat_minor": 5
}
