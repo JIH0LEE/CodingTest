{
 "cells": [
  {
   "cell_type": "code",
   "execution_count": 6,
   "id": "770e30ec",
   "metadata": {},
   "outputs": [
    {
     "name": "stdout",
     "output_type": "stream",
     "text": [
      "500\n",
      "166699\n"
     ]
    }
   ],
   "source": [
    "def director(n):\n",
    "    tri_six = 666\n",
    "    cnt = 0\n",
    "\n",
    "    while True:\n",
    "        if '666' in str(tri_six):\n",
    "            cnt += 1\n",
    "        if cnt == n:\n",
    "            return tri_six\n",
    "        tri_six += 1\n",
    "    \n",
    "    \n",
    "n = int(input())\n",
    "print(director(n))"
   ]
  }
 ],
 "metadata": {
  "kernelspec": {
   "display_name": "Python 3 (ipykernel)",
   "language": "python",
   "name": "python3"
  },
  "language_info": {
   "codemirror_mode": {
    "name": "ipython",
    "version": 3
   },
   "file_extension": ".py",
   "mimetype": "text/x-python",
   "name": "python",
   "nbconvert_exporter": "python",
   "pygments_lexer": "ipython3",
   "version": "3.9.5"
  }
 },
 "nbformat": 4,
 "nbformat_minor": 5
}
