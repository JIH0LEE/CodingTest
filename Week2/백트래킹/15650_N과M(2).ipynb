{
 "cells": [
  {
   "cell_type": "code",
   "execution_count": 13,
   "id": "4f41e6b9",
   "metadata": {},
   "outputs": [
    {
     "name": "stdout",
     "output_type": "stream",
     "text": [
      "4 2\n",
      "1 2\n",
      "1 3\n",
      "1 4\n",
      "2 3\n",
      "2 4\n",
      "3 4\n"
     ]
    }
   ],
   "source": [
    "n, m = list(map(int, input().split()))\n",
    "s = []\n",
    "\n",
    "def n_and_m(x):\n",
    "    if len(s) == m:\n",
    "        print(' '.join(map(str, s)))\n",
    "        return\n",
    "    for i in range(x, n+1):\n",
    "        if i not in s:\n",
    "            s.append(i)\n",
    "            n_and_m(i+1)\n",
    "            s.pop()\n",
    "\n",
    "n_and_m(1)"
   ]
  }
 ],
 "metadata": {
  "kernelspec": {
   "display_name": "Python 3 (ipykernel)",
   "language": "python",
   "name": "python3"
  },
  "language_info": {
   "codemirror_mode": {
    "name": "ipython",
    "version": 3
   },
   "file_extension": ".py",
   "mimetype": "text/x-python",
   "name": "python",
   "nbconvert_exporter": "python",
   "pygments_lexer": "ipython3",
   "version": "3.9.5"
  }
 },
 "nbformat": 4,
 "nbformat_minor": 5
}
