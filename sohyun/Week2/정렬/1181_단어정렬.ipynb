{
 "cells": [
  {
   "cell_type": "code",
   "execution_count": 8,
   "id": "9d957a48",
   "metadata": {},
   "outputs": [
    {
     "name": "stdout",
     "output_type": "stream",
     "text": [
      "13\n",
      "but\n",
      "i\n",
      "wont\n",
      "hesistate\n",
      "no\n",
      "more\n",
      "no\n",
      "more\n",
      "it\n",
      "cannot\n",
      "wait\n",
      "im\n",
      "yours\n",
      "i\n",
      "im\n",
      "it\n",
      "no\n",
      "but\n",
      "more\n",
      "wait\n",
      "wont\n",
      "yours\n",
      "cannot\n",
      "hesistate\n"
     ]
    }
   ],
   "source": [
    "n = int(input())\n",
    "word = []\n",
    "\n",
    "for i in range(n):\n",
    "    w = input()\n",
    "    cnt = len(w)\n",
    "    word.append((w, cnt))\n",
    "\n",
    "word = list(set(word))\n",
    "word.sort(key = lambda x: (x[1], x[0]))\n",
    "\n",
    "for x in word:\n",
    "    print(x[0])"
   ]
  }
 ],
 "metadata": {
  "kernelspec": {
   "display_name": "Python 3 (ipykernel)",
   "language": "python",
   "name": "python3"
  },
  "language_info": {
   "codemirror_mode": {
    "name": "ipython",
    "version": 3
   },
   "file_extension": ".py",
   "mimetype": "text/x-python",
   "name": "python",
   "nbconvert_exporter": "python",
   "pygments_lexer": "ipython3",
   "version": "3.9.5"
  }
 },
 "nbformat": 4,
 "nbformat_minor": 5
}
