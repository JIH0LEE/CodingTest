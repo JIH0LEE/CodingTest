{
 "cells": [
  {
   "cell_type": "code",
   "execution_count": null,
   "id": "7cc54ef5",
   "metadata": {},
   "outputs": [],
   "source": [
    "n, m = list(map(int, input().split()))\n",
    "s = []\n",
    "\n",
    "def n_and_m(x):\n",
    "    if len(s) == m:\n",
    "        print(' '.join(map(str, s)))\n",
    "        return\n",
    "    for i in range(x, n+1):\n",
    "        s.append(i)\n",
    "        n_and_m(i)\n",
    "        s.pop()\n",
    "\n",
    "n_and_m(1)"
   ]
  }
 ],
 "metadata": {
  "kernelspec": {
   "display_name": "Python 3 (ipykernel)",
   "language": "python",
   "name": "python3"
  },
  "language_info": {
   "codemirror_mode": {
    "name": "ipython",
    "version": 3
   },
   "file_extension": ".py",
   "mimetype": "text/x-python",
   "name": "python",
   "nbconvert_exporter": "python",
   "pygments_lexer": "ipython3",
   "version": "3.9.5"
  }
 },
 "nbformat": 4,
 "nbformat_minor": 5
}
