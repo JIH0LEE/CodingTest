{
 "cells": [
  {
   "cell_type": "code",
   "execution_count": 21,
   "id": "1cd04e22",
   "metadata": {},
   "outputs": [
    {
     "name": "stdout",
     "output_type": "stream",
     "text": [
      "5\n",
      "1\n",
      "3\n",
      "8\n",
      "-2\n",
      "2\n",
      "2\n",
      "2\n",
      "1\n",
      "10\n"
     ]
    }
   ],
   "source": [
    "from collections import Counter\n",
    "\n",
    "n = int(input())\n",
    "s = []\n",
    "for _ in range(n):\n",
    "    s.append(int(input()))\n",
    "\n",
    "# 산술평균\n",
    "print(round(sum(s)/n))\n",
    "\n",
    "# 중앙값\n",
    "s.sort()\n",
    "print(s[n//2])\n",
    "\n",
    "# 최빈값\n",
    "chk = Counter(s).most_common()\n",
    "if len(chk)>1 and chk[0][1]==chk[1][1]:\n",
    "    print(chk[1][0])\n",
    "else:\n",
    "    print(chk[0][0])\n",
    "\n",
    "# 범위\n",
    "print(max(s)-min(s))"
   ]
  }
 ],
 "metadata": {
  "kernelspec": {
   "display_name": "Python 3 (ipykernel)",
   "language": "python",
   "name": "python3"
  },
  "language_info": {
   "codemirror_mode": {
    "name": "ipython",
    "version": 3
   },
   "file_extension": ".py",
   "mimetype": "text/x-python",
   "name": "python",
   "nbconvert_exporter": "python",
   "pygments_lexer": "ipython3",
   "version": "3.9.5"
  }
 },
 "nbformat": 4,
 "nbformat_minor": 5
}
