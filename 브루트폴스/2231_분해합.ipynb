{
 "cells": [
  {
   "cell_type": "code",
   "execution_count": 3,
   "id": "d5966573",
   "metadata": {},
   "outputs": [
    {
     "name": "stdout",
     "output_type": "stream",
     "text": [
      "216\n",
      "198\n"
     ]
    }
   ],
   "source": [
    "def decompose(n):\n",
    "    for i in range(1, n+1):\n",
    "        temp = sum(map(int, str(i)))\n",
    "        res = i+temp\n",
    "        \n",
    "        if res == n:\n",
    "            return i\n",
    "        if i == n:\n",
    "            return 0\n",
    "    \n",
    "n = int(input())\n",
    "print(decompose(n))"
   ]
  }
 ],
 "metadata": {
  "kernelspec": {
   "display_name": "Python 3 (ipykernel)",
   "language": "python",
   "name": "python3"
  },
  "language_info": {
   "codemirror_mode": {
    "name": "ipython",
    "version": 3
   },
   "file_extension": ".py",
   "mimetype": "text/x-python",
   "name": "python",
   "nbconvert_exporter": "python",
   "pygments_lexer": "ipython3",
   "version": "3.9.5"
  }
 },
 "nbformat": 4,
 "nbformat_minor": 5
}
